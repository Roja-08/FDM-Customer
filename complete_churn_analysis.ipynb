{
  "cells": [
    {
      "cell_type": "markdown",
      "metadata": {},
      "source": [
        "# E-Commerce Customer Behavior Analysis & Churn Prediction System\n",
        "## Group-04 - Fundamentals of Data Mining - SLIIT\n",
        "\n",
        "This notebook performs comprehensive customer churn analysis using machine learning techniques.\n",
        "\n",
        "### Objectives:\n",
        "- Load and preprocess e-commerce data\n",
        "- Perform RFM analysis\n",
        "- Create customer segmentation\n",
        "- Build churn prediction models\n",
        "- Generate business insights and recommendations\n"
      ]
    },
    {
      "cell_type": "markdown",
      "metadata": {},
      "source": [
        "## Step 1: Import Libraries and Setup\n"
      ]
    },
    {
      "cell_type": "code",
      "execution_count": 1,
      "metadata": {},
      "outputs": [
        {
          "name": "stdout",
          "output_type": "stream",
          "text": [
            "🚀 Starting E-Commerce Churn Analysis System\n",
            "============================================================\n"
          ]
        }
      ],
      "source": [
        "# Import all necessary libraries\n",
        "import pandas as pd\n",
        "import numpy as np\n",
        "import matplotlib.pyplot as plt\n",
        "import seaborn as sns\n",
        "import plotly.express as px\n",
        "import plotly.graph_objects as go\n",
        "from plotly.subplots import make_subplots\n",
        "from datetime import datetime, timedelta\n",
        "import warnings\n",
        "warnings.filterwarnings('ignore')\n",
        "\n",
        "# Machine Learning libraries\n",
        "from sklearn.model_selection import train_test_split, cross_val_score\n",
        "from sklearn.preprocessing import StandardScaler, LabelEncoder\n",
        "from sklearn.cluster import KMeans\n",
        "from sklearn.ensemble import RandomForestClassifier, GradientBoostingClassifier\n",
        "from sklearn.linear_model import LogisticRegression\n",
        "from sklearn.metrics import classification_report, confusion_matrix, accuracy_score\n",
        "from sklearn.metrics import precision_score, recall_score, f1_score\n",
        "import pickle\n",
        "\n",
        "print(\"🚀 Starting E-Commerce Churn Analysis System\")\n",
        "print(\"=\" * 60)\n"
      ]
    },
    {
      "cell_type": "markdown",
      "metadata": {},
      "source": [
        "## Step 2: Data Loading\n"
      ]
    },
    {
      "cell_type": "code",
      "execution_count": 2,
      "metadata": {},
      "outputs": [
        {
          "name": "stdout",
          "output_type": "stream",
          "text": [
            "\n",
            "📊 STEP 1: Loading existing processed dataset...\n",
            "✅ Processed dataset loaded successfully!\n",
            "Dataset shape: (96096, 31)\n",
            "\n",
            "📈 Dataset Overview:\n",
            "Total customers: 96,096\n",
            "Features: 31\n",
            "Date range: 2016-09-04 21:15:19 to 2018-10-17 17:30:18\n"
          ]
        }
      ],
      "source": [
        "# Load existing processed dataset (since original Olist datasets are not available)\n",
        "print(\"\\n📊 STEP 1: Loading existing processed dataset...\")\n",
        "\n",
        "try:\n",
        "    # Load the existing processed dataset\n",
        "    customer_features = pd.read_csv('customer_features_with_churn_labels.csv')\n",
        "    \n",
        "    # Convert date columns\n",
        "    customer_features['first_order_date'] = pd.to_datetime(customer_features['first_order_date'])\n",
        "    customer_features['last_order_date'] = pd.to_datetime(customer_features['last_order_date'])\n",
        "    \n",
        "    print(\"✅ Processed dataset loaded successfully!\")\n",
        "    print(f\"Dataset shape: {customer_features.shape}\")\n",
        "    \n",
        "    # Display dataset information\n",
        "    print(f\"\\n📈 Dataset Overview:\")\n",
        "    print(f\"Total customers: {len(customer_features):,}\")\n",
        "    print(f\"Features: {customer_features.shape[1]}\")\n",
        "    print(f\"Date range: {customer_features['first_order_date'].min()} to {customer_features['last_order_date'].max()}\")\n",
        "    \n",
        "except Exception as e:\n",
        "    print(f\"❌ Error loading dataset: {e}\")\n",
        "    print(\"Please ensure 'customer_features_with_churn_labels.csv' is in the current directory\")\n"
      ]
    },
    {
      "cell_type": "markdown",
      "metadata": {},
      "source": [
        "## Step 3: Data Exploration and Churn Distribution\n"
      ]
    },
    {
      "cell_type": "code",
      "execution_count": 3,
      "metadata": {},
      "outputs": [
        {
          "name": "stdout",
          "output_type": "stream",
          "text": [
            "\n",
            "📈 Churn Risk Distribution:\n",
            "High Risk   : 21,164 customers ( 22.0%)\n",
            "Medium Risk : 21,075 customers ( 21.9%)\n",
            "Low Risk    : 41,555 customers ( 43.2%)\n",
            "Stable      : 12,302 customers ( 12.8%)\n",
            "\n",
            "📊 RFM Statistics:\n",
            "       recency_days     frequency       monetary\n",
            "count  96096.000000  96096.000000   96096.000000\n",
            "mean     287.735691      1.180330     213.023712\n",
            "std      153.414676      0.620748     640.917083\n",
            "min        0.000000      1.000000       0.000000\n",
            "25%      163.000000      1.000000      63.990000\n",
            "50%      268.000000      1.000000     113.150000\n",
            "75%      397.000000      1.000000     202.732500\n",
            "max      772.000000     24.000000  109312.640000\n"
          ]
        }
      ],
      "source": [
        "# Display churn distribution\n",
        "churn_distribution = customer_features['churn_risk'].value_counts()\n",
        "churn_percentage = customer_features['churn_risk'].value_counts(normalize=True) * 100\n",
        "\n",
        "print(\"\\n📈 Churn Risk Distribution:\")\n",
        "for risk_level in ['High Risk', 'Medium Risk', 'Low Risk', 'Stable']:\n",
        "    count = churn_distribution.get(risk_level, 0)\n",
        "    percentage = churn_percentage.get(risk_level, 0)\n",
        "    print(f\"{risk_level:12}: {count:>6,} customers ({percentage:5.1f}%)\")\n",
        "\n",
        "# Display RFM statistics\n",
        "rfm_stats = customer_features[['recency_days', 'frequency', 'monetary']].describe()\n",
        "print(\"\\n📊 RFM Statistics:\")\n",
        "print(rfm_stats)\n"
      ]
    },
    {
      "cell_type": "markdown",
      "metadata": {},
      "source": [
        "## Step 4: Machine Learning Model Preparation\n"
      ]
    },
    {
      "cell_type": "code",
      "execution_count": 4,
      "metadata": {},
      "outputs": [
        {
          "name": "stdout",
          "output_type": "stream",
          "text": [
            "\n",
            "🏷️ Label Mapping:\n",
            "High Risk: 0\n",
            "Low Risk: 1\n",
            "Medium Risk: 2\n",
            "Stable: 3\n",
            "\n",
            "📊 Dataset Split:\n",
            "Training set: 76,876 samples\n",
            "Testing set: 19,220 samples\n",
            "Number of features: 17\n"
          ]
        }
      ],
      "source": [
        "# Select features for modeling\n",
        "feature_columns = [\n",
        "    'recency_days', 'frequency', 'monetary',\n",
        "    'avg_order_value', 'unique_products', 'unique_categories',\n",
        "    'product_diversity_ratio', 'category_diversity_ratio',\n",
        "    'customer_lifetime_days', 'avg_days_between_orders',\n",
        "    'avg_review_score', 'total_review_comments',\n",
        "    'avg_payment_methods', 'max_installments',\n",
        "    'total_freight', 'avg_freight', 'std_payment'\n",
        "]\n",
        "\n",
        "# Create feature matrix\n",
        "X = customer_features[feature_columns].copy()\n",
        "X = X.fillna(X.mean())\n",
        "\n",
        "# Create target variable\n",
        "label_encoder = LabelEncoder()\n",
        "y = label_encoder.fit_transform(customer_features['churn_risk'])\n",
        "\n",
        "# Get label mapping\n",
        "label_mapping = dict(zip(label_encoder.classes_, label_encoder.transform(label_encoder.classes_)))\n",
        "print(\"\\n🏷️ Label Mapping:\")\n",
        "for label, code in label_mapping.items():\n",
        "    print(f\"{label}: {code}\")\n",
        "\n",
        "# Split data BEFORE scaling to prevent test leakage\n",
        "X_train, X_test, y_train, y_test = train_test_split(\n",
        "    X, y, test_size=0.2, random_state=42, stratify=y\n",
        ")\n",
        "\n",
        "# Fit scaler on training set only, then transform both sets\n",
        "scaler_ml = StandardScaler()\n",
        "X_train = scaler_ml.fit_transform(X_train)\n",
        "X_test = scaler_ml.transform(X_test)\n",
        "\n",
        "print(f\"\\n📊 Dataset Split:\")\n",
        "print(f\"Training set: {X_train.shape[0]:,} samples\")\n",
        "print(f\"Testing set: {X_test.shape[0]:,} samples\")\n",
        "print(f\"Number of features: {X_train.shape[1]}\")\n"
      ]
    },
    {
      "cell_type": "markdown",
      "metadata": {},
      "source": [
        "## Step 5: Model Training and Evaluation\n"
      ]
    },
    {
      "cell_type": "code",
      "execution_count": 5,
      "metadata": {},
      "outputs": [
        {
          "name": "stdout",
          "output_type": "stream",
          "text": [
            "\n",
            "🔄 Training Random Forest...\n",
            "✅ Random Forest - Accuracy: 1.0000, F1-Score: 1.0000\n",
            "\n",
            "🔄 Training Gradient Boosting...\n",
            "✅ Gradient Boosting - Accuracy: 1.0000, F1-Score: 1.0000\n",
            "\n",
            "🔄 Training Logistic Regression...\n",
            "✅ Logistic Regression - Accuracy: 0.7512, F1-Score: 0.7149\n",
            "\n",
            "🏆 Model Performance Summary:\n",
            "                 Model  Accuracy  Precision  Recall  F1-Score\n",
            "0        Random Forest    1.0000     1.0000  1.0000    1.0000\n",
            "1    Gradient Boosting    1.0000     1.0000  1.0000    1.0000\n",
            "2  Logistic Regression    0.7512     0.8093  0.7512    0.7149\n",
            "\n",
            "🥇 Best performing model: Random Forest\n"
          ]
        }
      ],
      "source": [
        "# Initialize models\n",
        "models = {\n",
        "    'Random Forest': RandomForestClassifier(n_estimators=100, random_state=42, n_jobs=-1),\n",
        "    'Gradient Boosting': GradientBoostingClassifier(n_estimators=100, random_state=42),\n",
        "    'Logistic Regression': LogisticRegression(random_state=42, max_iter=1000, multi_class='ovr')\n",
        "}\n",
        "\n",
        "# Train and evaluate models\n",
        "model_results = {}\n",
        "\n",
        "for name, model in models.items():\n",
        "    print(f\"\\n🔄 Training {name}...\")\n",
        "    \n",
        "    # Train model\n",
        "    model.fit(X_train, y_train)\n",
        "    \n",
        "    # Make predictions\n",
        "    y_pred = model.predict(X_test)\n",
        "    \n",
        "    # Calculate metrics\n",
        "    accuracy = accuracy_score(y_test, y_pred)\n",
        "    precision = precision_score(y_test, y_pred, average='weighted')\n",
        "    recall = recall_score(y_test, y_pred, average='weighted')\n",
        "    f1 = f1_score(y_test, y_pred, average='weighted')\n",
        "    \n",
        "    # Store results\n",
        "    model_results[name] = {\n",
        "        'model': model,\n",
        "        'accuracy': accuracy,\n",
        "        'precision': precision,\n",
        "        'recall': recall,\n",
        "        'f1_score': f1,\n",
        "        'predictions': y_pred\n",
        "    }\n",
        "    \n",
        "    print(f\"✅ {name} - Accuracy: {accuracy:.4f}, F1-Score: {f1:.4f}\")\n",
        "\n",
        "# Find best model\n",
        "performance_df = pd.DataFrame({\n",
        "    'Model': list(model_results.keys()),\n",
        "    'Accuracy': [results['accuracy'] for results in model_results.values()],\n",
        "    'Precision': [results['precision'] for results in model_results.values()],\n",
        "    'Recall': [results['recall'] for results in model_results.values()],\n",
        "    'F1-Score': [results['f1_score'] for results in model_results.values()]\n",
        "})\n",
        "\n",
        "print(\"\\n🏆 Model Performance Summary:\")\n",
        "print(performance_df.round(4))\n",
        "\n",
        "# Best model analysis\n",
        "best_model_name = performance_df.loc[performance_df['F1-Score'].idxmax(), 'Model']\n",
        "best_model = model_results[best_model_name]['model']\n",
        "best_predictions = model_results[best_model_name]['predictions']\n",
        "\n",
        "print(f\"\\n🥇 Best performing model: {best_model_name}\")\n"
      ]
    },
    {
      "cell_type": "markdown",
      "metadata": {},
      "source": [
        "## Step 6: Classification Report and Confusion Matrix\n"
      ]
    },
    {
      "cell_type": "code",
      "execution_count": 6,
      "metadata": {},
      "outputs": [
        {
          "name": "stdout",
          "output_type": "stream",
          "text": [
            "\n",
            "📋 Detailed Classification Report:\n",
            "              precision    recall  f1-score   support\n",
            "\n",
            "   High Risk       1.00      1.00      1.00      4233\n",
            "    Low Risk       1.00      1.00      1.00      8311\n",
            " Medium Risk       1.00      1.00      1.00      4215\n",
            "      Stable       1.00      1.00      1.00      2461\n",
            "\n",
            "    accuracy                           1.00     19220\n",
            "   macro avg       1.00      1.00      1.00     19220\n",
            "weighted avg       1.00      1.00      1.00     19220\n",
            "\n",
            "\n",
            "🔍 Creating Confusion Matrix...\n"
          ]
        },
        {
          "data": {
            "image/png": "[encoded data removed]",
            "text/plain": [
              "<Figure size 1000x800 with 2 Axes>"
            ]
          },
          "metadata": {},
          "output_type": "display_data"
        },
        {
          "name": "stdout",
          "output_type": "stream",
          "text": [
            "✅ Confusion Matrix created and saved as 'confusion_matrix.png'\n",
            "\n",
            "📊 Confusion Matrix Analysis:\n",
            "Total Predictions: 19,220\n",
            "Correct Predictions: 19,220\n",
            "Overall Accuracy: 1.0000 (100.00%)\n",
            "\n",
            "📈 Per-Class Accuracy:\n",
            "High Risk   : 4233/4233 (1.0000)\n",
            "Low Risk    : 8311/8311 (1.0000)\n",
            "Medium Risk : 4215/4215 (1.0000)\n",
            "Stable      : 2461/2461 (1.0000)\n"
          ]
        }
      ],
      "source": [
        "# Classification report\n",
        "class_names = label_encoder.classes_\n",
        "print(\"\\n📋 Detailed Classification Report:\")\n",
        "print(classification_report(y_test, best_predictions, target_names=class_names))\n",
        "\n",
        "# Confusion Matrix\n",
        "print(\"\\n🔍 Creating Confusion Matrix...\")\n",
        "cm = confusion_matrix(y_test, best_predictions)\n",
        "\n",
        "# Create confusion matrix visualization\n",
        "plt.figure(figsize=(10, 8))\n",
        "sns.heatmap(cm, annot=True, fmt='d', cmap='Blues', \n",
        "            xticklabels=class_names, yticklabels=class_names,\n",
        "            cbar_kws={'label': 'Number of Predictions'})\n",
        "plt.title(f'Confusion Matrix - {best_model_name}', fontsize=16, fontweight='bold')\n",
        "plt.xlabel('Predicted Churn Risk', fontsize=12, fontweight='bold')\n",
        "plt.ylabel('Actual Churn Risk', fontsize=12, fontweight='bold')\n",
        "plt.xticks(rotation=45)\n",
        "plt.yticks(rotation=0)\n",
        "plt.tight_layout()\n",
        "\n",
        "# Save confusion matrix\n",
        "plt.savefig('confusion_matrix.png', dpi=300, bbox_inches='tight')\n",
        "plt.show()\n",
        "\n",
        "print(\"✅ Confusion Matrix created and saved as 'confusion_matrix.png'\")\n",
        "\n",
        "# Display confusion matrix statistics\n",
        "print(\"\\n📊 Confusion Matrix Analysis:\")\n",
        "total_predictions = cm.sum()\n",
        "correct_predictions = cm.diagonal().sum()\n",
        "overall_accuracy = correct_predictions / total_predictions\n",
        "\n",
        "print(f\"Total Predictions: {total_predictions:,}\")\n",
        "print(f\"Correct Predictions: {correct_predictions:,}\")\n",
        "print(f\"Overall Accuracy: {overall_accuracy:.4f} ({overall_accuracy*100:.2f}%)\")\n",
        "\n",
        "# Per-class accuracy\n",
        "print(\"\\n📈 Per-Class Accuracy:\")\n",
        "for i, class_name in enumerate(class_names):\n",
        "    class_total = cm[i, :].sum()\n",
        "    class_correct = cm[i, i]\n",
        "    class_accuracy = class_correct / class_total if class_total > 0 else 0\n",
        "    print(f\"{class_name:12}: {class_correct:>4}/{class_total:<4} ({class_accuracy:.4f})\")\n"
      ]
    },
    {
      "cell_type": "markdown",
      "metadata": {},
      "source": [
        "## Step 7: Business Intelligence Analysis\n"
      ]
    },
    {
      "cell_type": "code",
      "execution_count": 7,
      "metadata": {},
      "outputs": [
        {
          "name": "stdout",
          "output_type": "stream",
          "text": [
            "\n",
            "💰 Business Impact Analysis by Churn Risk:\n",
            "             Customer_Count  Total_Revenue  Avg_Revenue_Per_Customer  \\\n",
            "churn_risk                                                             \n",
            "High Risk             21164     3267750.01                    154.40   \n",
            "Low Risk              41555     9556526.95                    229.97   \n",
            "Medium Risk           21075     3149817.71                    149.46   \n",
            "Stable                12302     4496631.99                    365.52   \n",
            "\n",
            "             Avg_Order_Frequency  Avg_Recency_Days  Avg_Review_Score  \n",
            "churn_risk                                                            \n",
            "High Risk                   1.00            502.77              4.16  \n",
            "Low Risk                    1.31            211.78              4.01  \n",
            "Medium Risk                 1.00            327.12              4.09  \n",
            "Stable                      1.35            106.91              4.20  \n",
            "\n",
            "⚠️ Revenue at Risk Analysis:\n",
            "High Risk Revenue: $3,267,750.01\n",
            "Medium Risk Revenue (50%): $1,574,908.85\n",
            "Total Revenue at Risk: $4,842,658.87 (23.7% of total revenue)\n"
          ]
        }
      ],
      "source": [
        "# Customer value analysis by churn risk\n",
        "churn_business_impact = customer_features.groupby('churn_risk').agg({\n",
        "    'customer_unique_id': 'count',\n",
        "    'monetary': ['sum', 'mean'],\n",
        "    'frequency': 'mean',\n",
        "    'recency_days': 'mean',\n",
        "    'avg_review_score': 'mean'\n",
        "}).round(2)\n",
        "\n",
        "churn_business_impact.columns = [\n",
        "    'Customer_Count', 'Total_Revenue', 'Avg_Revenue_Per_Customer',\n",
        "    'Avg_Order_Frequency', 'Avg_Recency_Days', 'Avg_Review_Score'\n",
        "]\n",
        "\n",
        "print(\"\\n💰 Business Impact Analysis by Churn Risk:\")\n",
        "print(churn_business_impact)\n",
        "\n",
        "# Calculate revenue at risk\n",
        "high_risk_revenue = churn_business_impact.loc['High Risk', 'Total_Revenue']\n",
        "medium_risk_revenue = churn_business_impact.loc['Medium Risk', 'Total_Revenue']\n",
        "total_revenue = churn_business_impact['Total_Revenue'].sum()\n",
        "\n",
        "revenue_at_risk = high_risk_revenue + (medium_risk_revenue * 0.5)\n",
        "revenue_at_risk_percentage = (revenue_at_risk / total_revenue) * 100\n",
        "\n",
        "print(f\"\\n⚠️ Revenue at Risk Analysis:\")\n",
        "print(f\"High Risk Revenue: ${high_risk_revenue:,.2f}\")\n",
        "print(f\"Medium Risk Revenue (50%): ${medium_risk_revenue * 0.5:,.2f}\")\n",
        "print(f\"Total Revenue at Risk: ${revenue_at_risk:,.2f} ({revenue_at_risk_percentage:.1f}% of total revenue)\")\n"
      ]
    },
    {
      "cell_type": "markdown",
      "metadata": {},
      "source": [
        "## Step 8: Save Model and Results\n"
      ]
    },
    {
      "cell_type": "code",
      "execution_count": 8,
      "metadata": {},
      "outputs": [
        {
          "name": "stdout",
          "output_type": "stream",
          "text": [
            "✅ Model and results saved successfully!\n",
            "\n",
            "🚀 DELIVERABLES CREATED:\n",
            "• churn_prediction_model.pkl - Trained ML model\n",
            "• analysis_results.pkl - Complete analysis results\n",
            "• confusion_matrix.png - Model performance confusion matrix\n"
          ]
        }
      ],
      "source": [
        "# Save model artifacts\n",
        "model_artifacts = {\n",
        "    'model': best_model,\n",
        "    'scaler': scaler_ml,\n",
        "    'label_encoder': label_encoder,\n",
        "    'feature_columns': feature_columns,\n",
        "    'class_names': class_names,\n",
        "    'model_name': best_model_name\n",
        "}\n",
        "\n",
        "with open('churn_prediction_model.pkl', 'wb') as f:\n",
        "    pickle.dump(model_artifacts, f)\n",
        "\n",
        "# Save analysis results\n",
        "analysis_results = {\n",
        "    'total_customers': len(customer_features),\n",
        "    'best_model': best_model_name,\n",
        "    'model_accuracy': model_results[best_model_name]['accuracy'],\n",
        "    'revenue_at_risk': revenue_at_risk,\n",
        "    'revenue_at_risk_percentage': revenue_at_risk_percentage,\n",
        "    'churn_distribution': churn_distribution.to_dict(),\n",
        "    'business_impact': churn_business_impact.to_dict()\n",
        "}\n",
        "\n",
        "with open('analysis_results.pkl', 'wb') as f:\n",
        "    pickle.dump(analysis_results, f)\n",
        "\n",
        "print(\"✅ Model and results saved successfully!\")\n",
        "print(\"\\n🚀 DELIVERABLES CREATED:\")\n",
        "print(\"• churn_prediction_model.pkl - Trained ML model\")\n",
        "print(\"• analysis_results.pkl - Complete analysis results\")\n",
        "print(\"• confusion_matrix.png - Model performance confusion matrix\")\n"
      ]
    },
    {
      "cell_type": "markdown",
      "metadata": {},
      "source": [
        "## Step 9: Project Summary\n"
      ]
    },
    {
      "cell_type": "code",
      "execution_count": 9,
      "metadata": {},
      "outputs": [
        {
          "name": "stdout",
          "output_type": "stream",
          "text": [
            "\n",
            "================================================================================\n",
            "📋 ANALYSIS COMPLETION SUMMARY\n",
            "================================================================================\n",
            "\n",
            "🎯 OBJECTIVES ACHIEVED:\n",
            "✅ Loaded and processed customer dataset\n",
            "✅ Model training and evaluation completed\n",
            "✅ Confusion matrix generated\n",
            "✅ Business intelligence insights provided\n",
            "\n",
            "📊 KEY RESULTS:\n",
            "• Customers analyzed: 96,096\n",
            "• Best model: Random Forest (Accuracy: 100.0%)\n",
            "• Revenue at risk: $4,842,658.87 (23.7%)\n",
            "\n",
            "👥 CUSTOMER SEGMENTS:\n",
            "• High Risk: 21,164 customers (22.0%)\n",
            "• Medium Risk: 21,075 customers (21.9%)\n",
            "• Low Risk: 41,555 customers (43.2%)\n",
            "• Stable: 12,302 customers (12.8%)\n",
            "\n",
            "🎉 E-COMMERCE CHURN ANALYSIS COMPLETED SUCCESSFULLY!\n",
            "Group-04 - Fundamentals of Data Mining - SLIIT\n",
            "================================================================================\n"
          ]
        }
      ],
      "source": [
        "print(\"\\n\" + \"=\"*80)\n",
        "print(\"📋 ANALYSIS COMPLETION SUMMARY\")\n",
        "print(\"=\"*80)\n",
        "\n",
        "print(\"\\n🎯 OBJECTIVES ACHIEVED:\")\n",
        "print(\"✅ Loaded and processed customer dataset\")\n",
        "print(\"✅ Model training and evaluation completed\")\n",
        "print(\"✅ Confusion matrix generated\")\n",
        "print(\"✅ Business intelligence insights provided\")\n",
        "\n",
        "print(f\"\\n📊 KEY RESULTS:\")\n",
        "print(f\"• Customers analyzed: {len(customer_features):,}\")\n",
        "print(f\"• Best model: {best_model_name} (Accuracy: {model_results[best_model_name]['accuracy']:.1%})\")\n",
        "print(f\"• Revenue at risk: ${revenue_at_risk:,.2f} ({revenue_at_risk_percentage:.1f}%)\")\n",
        "\n",
        "print(f\"\\n👥 CUSTOMER SEGMENTS:\")\n",
        "for risk in ['High Risk', 'Medium Risk', 'Low Risk', 'Stable']:\n",
        "    if risk in churn_distribution.index:\n",
        "        count = churn_distribution[risk]\n",
        "        pct = count / len(customer_features) * 100\n",
        "        print(f\"• {risk}: {count:,} customers ({pct:.1f}%)\")\n",
        "\n",
        "print(\"\\n🎉 E-COMMERCE CHURN ANALYSIS COMPLETED SUCCESSFULLY!\")\n",
        "print(\"Group-04 - Fundamentals of Data Mining - SLIIT\")\n",
        "print(\"=\"*80)\n"
      ]
    },
    {
      "cell_type": "markdown",
      "metadata": {},
      "source": []
    },
    {
      "cell_type": "markdown",
      "metadata": {},
      "source": []
    }
  ],
  "metadata": {
    "kernelspec": {
      "display_name": "base",
      "language": "python",
      "name": "python3"
    },
    "language_info": {
      "codemirror_mode": {
        "name": "ipython",
        "version": 3
      },
      "file_extension": ".py",
      "mimetype": "text/x-python",
      "name": "python",
      "nbconvert_exporter": "python",
      "pygments_lexer": "ipython3",
      "version": "3.13.5"
    }
  },
  "nbformat": 4,
  "nbformat_minor": 2
}
